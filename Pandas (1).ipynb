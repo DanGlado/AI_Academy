{
  "nbformat": 4,
  "nbformat_minor": 0,
  "metadata": {
    "kernelspec": {
      "display_name": "Python 3",
      "language": "python",
      "name": "python3"
    },
    "language_info": {
      "codemirror_mode": {
        "name": "ipython",
        "version": 3
      },
      "file_extension": ".py",
      "mimetype": "text/x-python",
      "name": "python",
      "nbconvert_exporter": "python",
      "pygments_lexer": "ipython3",
      "version": "3.6.5"
    },
    "toc": {
      "base_numbering": 1,
      "nav_menu": {},
      "number_sections": true,
      "sideBar": true,
      "skip_h1_title": false,
      "title_cell": "Table of Contents",
      "title_sidebar": "Contents",
      "toc_cell": false,
      "toc_position": {},
      "toc_section_display": true,
      "toc_window_display": false
    },
    "colab": {
      "provenance": [],
      "collapsed_sections": []
    }
  },
  "cells": [
    {
      "cell_type": "markdown",
      "source": [
        "<img src=\"https://i.ibb.co/w47BZhd/2-03.png\" width=700>"
      ],
      "metadata": {
        "id": "zI2SYRj_3ULP"
      }
    },
    {
      "cell_type": "markdown",
      "metadata": {
        "id": "JiPS2zJREbEd"
      },
      "source": [
        "# Библиотека для анализа данных Pandas"
      ]
    },
    {
      "cell_type": "markdown",
      "metadata": {
        "id": "F600u1UoEk_L"
      },
      "source": [
        "\n",
        " \n",
        "\n",
        "\n",
        "\n",
        "<img src=\"https://files.realpython.com/media/A-Guide-to-Pandas-Dataframes_Watermarked.7330c8fd51bb.jpg\" alt=\"Drawing\" style=\"width: 50px;\" width=\"480\"/>\n"
      ]
    },
    {
      "cell_type": "markdown",
      "source": [
        "## 1.1 Импортируем библиотеки"
      ],
      "metadata": {
        "id": "n2SRKeFf3oSd"
      }
    },
    {
      "cell_type": "code",
      "metadata": {
        "id": "-rUPpg4GEghq"
      },
      "source": [
        "import pandas as pd"
      ],
      "execution_count": null,
      "outputs": []
    },
    {
      "cell_type": "code",
      "metadata": {
        "id": "cUD2j9p8Es-y"
      },
      "source": [
        "import matplotlib.pyplot as plt\n",
        "\n",
        "#магическая команда, указывает, что графики нужно строить прямо в ноутбуке: \n",
        "%matplotlib inline"
      ],
      "execution_count": null,
      "outputs": []
    },
    {
      "cell_type": "code",
      "source": [
        "import warnings\n",
        "warnings.filterwarnings('ignore')"
      ],
      "metadata": {
        "id": "68038m1_4OEf"
      },
      "execution_count": null,
      "outputs": []
    },
    {
      "cell_type": "markdown",
      "metadata": {
        "id": "EUclkaPTVpHJ"
      },
      "source": [
        "## 1.2 Загрузим данные и посмотрим на них\n",
        "\n"
      ]
    },
    {
      "cell_type": "code",
      "metadata": {
        "id": "LyPM3xJmRa5-"
      },
      "source": [
        "%%capture\n",
        "!wget https://www.dropbox.com/s/64ol9q9ssggz6f1/data_ford_price.xlsx"
      ],
      "execution_count": null,
      "outputs": []
    },
    {
      "cell_type": "code",
      "metadata": {
        "id": "M2o6h_w-5VKv"
      },
      "source": [
        "data = pd.read_excel('data_ford_price.xlsx')"
      ],
      "execution_count": null,
      "outputs": []
    },
    {
      "cell_type": "code",
      "source": [
        "data.shape"
      ],
      "metadata": {
        "colab": {
          "base_uri": "https://localhost:8080/"
        },
        "id": "0f2nuihsDZN1",
        "outputId": "c9db0694-0fa0-4c4f-90b1-77b493958564"
      },
      "execution_count": null,
      "outputs": [
        {
          "output_type": "execute_result",
          "data": {
            "text/plain": [
              "(7017, 12)"
            ]
          },
          "metadata": {},
          "execution_count": 6
        }
      ]
    },
    {
      "cell_type": "code",
      "metadata": {
        "colab": {
          "base_uri": "https://localhost:8080/",
          "height": 206
        },
        "id": "1VCOMmsmFbNl",
        "outputId": "b171b366-bbfd-4c37-ba90-26f03f54655f"
      },
      "source": [
        "data.head(5)"
      ],
      "execution_count": null,
      "outputs": [
        {
          "output_type": "execute_result",
          "data": {
            "text/plain": [
              "   price  year  condition  cylinders  odometer title_status transmission  \\\n",
              "0  43900  2016          4          6     43500        clean    automatic   \n",
              "1  15490  2009          2          8     98131        clean    automatic   \n",
              "2   2495  2002          2          8    201803        clean    automatic   \n",
              "3   1300  2000          1          8    170305      rebuilt    automatic   \n",
              "4  13865  2010          3          8    166062        clean    automatic   \n",
              "\n",
              "  drive       size        lat        long  weather  \n",
              "0   4wd  full-size  36.471500  -82.483400     59.0  \n",
              "1   4wd  full-size  40.468826  -74.281734     52.0  \n",
              "2   4wd  full-size  42.477134  -82.949564     45.0  \n",
              "3   4wd  full-size  40.764373  -82.349503     49.0  \n",
              "4   4wd        NaN  49.210949 -123.114720      NaN  "
            ],
            "text/html": [
              "\n",
              "  <div id=\"df-3b0b9b73-6c65-4583-862f-5132601fd67b\">\n",
              "    <div class=\"colab-df-container\">\n",
              "      <div>\n",
              "<style scoped>\n",
              "    .dataframe tbody tr th:only-of-type {\n",
              "        vertical-align: middle;\n",
              "    }\n",
              "\n",
              "    .dataframe tbody tr th {\n",
              "        vertical-align: top;\n",
              "    }\n",
              "\n",
              "    .dataframe thead th {\n",
              "        text-align: right;\n",
              "    }\n",
              "</style>\n",
              "<table border=\"1\" class=\"dataframe\">\n",
              "  <thead>\n",
              "    <tr style=\"text-align: right;\">\n",
              "      <th></th>\n",
              "      <th>price</th>\n",
              "      <th>year</th>\n",
              "      <th>condition</th>\n",
              "      <th>cylinders</th>\n",
              "      <th>odometer</th>\n",
              "      <th>title_status</th>\n",
              "      <th>transmission</th>\n",
              "      <th>drive</th>\n",
              "      <th>size</th>\n",
              "      <th>lat</th>\n",
              "      <th>long</th>\n",
              "      <th>weather</th>\n",
              "    </tr>\n",
              "  </thead>\n",
              "  <tbody>\n",
              "    <tr>\n",
              "      <th>0</th>\n",
              "      <td>43900</td>\n",
              "      <td>2016</td>\n",
              "      <td>4</td>\n",
              "      <td>6</td>\n",
              "      <td>43500</td>\n",
              "      <td>clean</td>\n",
              "      <td>automatic</td>\n",
              "      <td>4wd</td>\n",
              "      <td>full-size</td>\n",
              "      <td>36.471500</td>\n",
              "      <td>-82.483400</td>\n",
              "      <td>59.0</td>\n",
              "    </tr>\n",
              "    <tr>\n",
              "      <th>1</th>\n",
              "      <td>15490</td>\n",
              "      <td>2009</td>\n",
              "      <td>2</td>\n",
              "      <td>8</td>\n",
              "      <td>98131</td>\n",
              "      <td>clean</td>\n",
              "      <td>automatic</td>\n",
              "      <td>4wd</td>\n",
              "      <td>full-size</td>\n",
              "      <td>40.468826</td>\n",
              "      <td>-74.281734</td>\n",
              "      <td>52.0</td>\n",
              "    </tr>\n",
              "    <tr>\n",
              "      <th>2</th>\n",
              "      <td>2495</td>\n",
              "      <td>2002</td>\n",
              "      <td>2</td>\n",
              "      <td>8</td>\n",
              "      <td>201803</td>\n",
              "      <td>clean</td>\n",
              "      <td>automatic</td>\n",
              "      <td>4wd</td>\n",
              "      <td>full-size</td>\n",
              "      <td>42.477134</td>\n",
              "      <td>-82.949564</td>\n",
              "      <td>45.0</td>\n",
              "    </tr>\n",
              "    <tr>\n",
              "      <th>3</th>\n",
              "      <td>1300</td>\n",
              "      <td>2000</td>\n",
              "      <td>1</td>\n",
              "      <td>8</td>\n",
              "      <td>170305</td>\n",
              "      <td>rebuilt</td>\n",
              "      <td>automatic</td>\n",
              "      <td>4wd</td>\n",
              "      <td>full-size</td>\n",
              "      <td>40.764373</td>\n",
              "      <td>-82.349503</td>\n",
              "      <td>49.0</td>\n",
              "    </tr>\n",
              "    <tr>\n",
              "      <th>4</th>\n",
              "      <td>13865</td>\n",
              "      <td>2010</td>\n",
              "      <td>3</td>\n",
              "      <td>8</td>\n",
              "      <td>166062</td>\n",
              "      <td>clean</td>\n",
              "      <td>automatic</td>\n",
              "      <td>4wd</td>\n",
              "      <td>NaN</td>\n",
              "      <td>49.210949</td>\n",
              "      <td>-123.114720</td>\n",
              "      <td>NaN</td>\n",
              "    </tr>\n",
              "  </tbody>\n",
              "</table>\n",
              "</div>\n",
              "      <button class=\"colab-df-convert\" onclick=\"convertToInteractive('df-3b0b9b73-6c65-4583-862f-5132601fd67b')\"\n",
              "              title=\"Convert this dataframe to an interactive table.\"\n",
              "              style=\"display:none;\">\n",
              "        \n",
              "  <svg xmlns=\"http://www.w3.org/2000/svg\" height=\"24px\"viewBox=\"0 0 24 24\"\n",
              "       width=\"24px\">\n",
              "    <path d=\"M0 0h24v24H0V0z\" fill=\"none\"/>\n",
              "    <path d=\"M18.56 5.44l.94 2.06.94-2.06 2.06-.94-2.06-.94-.94-2.06-.94 2.06-2.06.94zm-11 1L8.5 8.5l.94-2.06 2.06-.94-2.06-.94L8.5 2.5l-.94 2.06-2.06.94zm10 10l.94 2.06.94-2.06 2.06-.94-2.06-.94-.94-2.06-.94 2.06-2.06.94z\"/><path d=\"M17.41 7.96l-1.37-1.37c-.4-.4-.92-.59-1.43-.59-.52 0-1.04.2-1.43.59L10.3 9.45l-7.72 7.72c-.78.78-.78 2.05 0 2.83L4 21.41c.39.39.9.59 1.41.59.51 0 1.02-.2 1.41-.59l7.78-7.78 2.81-2.81c.8-.78.8-2.07 0-2.86zM5.41 20L4 18.59l7.72-7.72 1.47 1.35L5.41 20z\"/>\n",
              "  </svg>\n",
              "      </button>\n",
              "      \n",
              "  <style>\n",
              "    .colab-df-container {\n",
              "      display:flex;\n",
              "      flex-wrap:wrap;\n",
              "      gap: 12px;\n",
              "    }\n",
              "\n",
              "    .colab-df-convert {\n",
              "      background-color: #E8F0FE;\n",
              "      border: none;\n",
              "      border-radius: 50%;\n",
              "      cursor: pointer;\n",
              "      display: none;\n",
              "      fill: #1967D2;\n",
              "      height: 32px;\n",
              "      padding: 0 0 0 0;\n",
              "      width: 32px;\n",
              "    }\n",
              "\n",
              "    .colab-df-convert:hover {\n",
              "      background-color: #E2EBFA;\n",
              "      box-shadow: 0px 1px 2px rgba(60, 64, 67, 0.3), 0px 1px 3px 1px rgba(60, 64, 67, 0.15);\n",
              "      fill: #174EA6;\n",
              "    }\n",
              "\n",
              "    [theme=dark] .colab-df-convert {\n",
              "      background-color: #3B4455;\n",
              "      fill: #D2E3FC;\n",
              "    }\n",
              "\n",
              "    [theme=dark] .colab-df-convert:hover {\n",
              "      background-color: #434B5C;\n",
              "      box-shadow: 0px 1px 3px 1px rgba(0, 0, 0, 0.15);\n",
              "      filter: drop-shadow(0px 1px 2px rgba(0, 0, 0, 0.3));\n",
              "      fill: #FFFFFF;\n",
              "    }\n",
              "  </style>\n",
              "\n",
              "      <script>\n",
              "        const buttonEl =\n",
              "          document.querySelector('#df-3b0b9b73-6c65-4583-862f-5132601fd67b button.colab-df-convert');\n",
              "        buttonEl.style.display =\n",
              "          google.colab.kernel.accessAllowed ? 'block' : 'none';\n",
              "\n",
              "        async function convertToInteractive(key) {\n",
              "          const element = document.querySelector('#df-3b0b9b73-6c65-4583-862f-5132601fd67b');\n",
              "          const dataTable =\n",
              "            await google.colab.kernel.invokeFunction('convertToInteractive',\n",
              "                                                     [key], {});\n",
              "          if (!dataTable) return;\n",
              "\n",
              "          const docLinkHtml = 'Like what you see? Visit the ' +\n",
              "            '<a target=\"_blank\" href=https://colab.research.google.com/notebooks/data_table.ipynb>data table notebook</a>'\n",
              "            + ' to learn more about interactive tables.';\n",
              "          element.innerHTML = '';\n",
              "          dataTable['output_type'] = 'display_data';\n",
              "          await google.colab.output.renderOutput(dataTable, element);\n",
              "          const docLink = document.createElement('div');\n",
              "          docLink.innerHTML = docLinkHtml;\n",
              "          element.appendChild(docLink);\n",
              "        }\n",
              "      </script>\n",
              "    </div>\n",
              "  </div>\n",
              "  "
            ]
          },
          "metadata": {},
          "execution_count": 7
        }
      ]
    },
    {
      "cell_type": "code",
      "source": [
        "data.tail(3)"
      ],
      "metadata": {
        "colab": {
          "base_uri": "https://localhost:8080/",
          "height": 143
        },
        "id": "D5flfMb16WNZ",
        "outputId": "1d668dd8-be24-4ad0-c87f-69952b7e95be"
      },
      "execution_count": null,
      "outputs": [
        {
          "output_type": "execute_result",
          "data": {
            "text/plain": [
              "      price  year  condition  cylinders  odometer title_status transmission  \\\n",
              "7014   9999  2006          3          8    161514        clean    automatic   \n",
              "7015  10900  2011          2          8    164000        clean    automatic   \n",
              "7016  18000  2010          2          8    104000        clean    automatic   \n",
              "\n",
              "     drive       size        lat        long  weather  \n",
              "7014   NaN  full-size  37.609783 -120.995406     59.0  \n",
              "7015   4wd  full-size  43.140600  -93.385000     47.0  \n",
              "7016   4wd  full-size  37.987200  -84.178900     50.0  "
            ],
            "text/html": [
              "\n",
              "  <div id=\"df-78dbbfbd-453a-496b-98d1-2d6467e7a1e5\">\n",
              "    <div class=\"colab-df-container\">\n",
              "      <div>\n",
              "<style scoped>\n",
              "    .dataframe tbody tr th:only-of-type {\n",
              "        vertical-align: middle;\n",
              "    }\n",
              "\n",
              "    .dataframe tbody tr th {\n",
              "        vertical-align: top;\n",
              "    }\n",
              "\n",
              "    .dataframe thead th {\n",
              "        text-align: right;\n",
              "    }\n",
              "</style>\n",
              "<table border=\"1\" class=\"dataframe\">\n",
              "  <thead>\n",
              "    <tr style=\"text-align: right;\">\n",
              "      <th></th>\n",
              "      <th>price</th>\n",
              "      <th>year</th>\n",
              "      <th>condition</th>\n",
              "      <th>cylinders</th>\n",
              "      <th>odometer</th>\n",
              "      <th>title_status</th>\n",
              "      <th>transmission</th>\n",
              "      <th>drive</th>\n",
              "      <th>size</th>\n",
              "      <th>lat</th>\n",
              "      <th>long</th>\n",
              "      <th>weather</th>\n",
              "    </tr>\n",
              "  </thead>\n",
              "  <tbody>\n",
              "    <tr>\n",
              "      <th>7014</th>\n",
              "      <td>9999</td>\n",
              "      <td>2006</td>\n",
              "      <td>3</td>\n",
              "      <td>8</td>\n",
              "      <td>161514</td>\n",
              "      <td>clean</td>\n",
              "      <td>automatic</td>\n",
              "      <td>NaN</td>\n",
              "      <td>full-size</td>\n",
              "      <td>37.609783</td>\n",
              "      <td>-120.995406</td>\n",
              "      <td>59.0</td>\n",
              "    </tr>\n",
              "    <tr>\n",
              "      <th>7015</th>\n",
              "      <td>10900</td>\n",
              "      <td>2011</td>\n",
              "      <td>2</td>\n",
              "      <td>8</td>\n",
              "      <td>164000</td>\n",
              "      <td>clean</td>\n",
              "      <td>automatic</td>\n",
              "      <td>4wd</td>\n",
              "      <td>full-size</td>\n",
              "      <td>43.140600</td>\n",
              "      <td>-93.385000</td>\n",
              "      <td>47.0</td>\n",
              "    </tr>\n",
              "    <tr>\n",
              "      <th>7016</th>\n",
              "      <td>18000</td>\n",
              "      <td>2010</td>\n",
              "      <td>2</td>\n",
              "      <td>8</td>\n",
              "      <td>104000</td>\n",
              "      <td>clean</td>\n",
              "      <td>automatic</td>\n",
              "      <td>4wd</td>\n",
              "      <td>full-size</td>\n",
              "      <td>37.987200</td>\n",
              "      <td>-84.178900</td>\n",
              "      <td>50.0</td>\n",
              "    </tr>\n",
              "  </tbody>\n",
              "</table>\n",
              "</div>\n",
              "      <button class=\"colab-df-convert\" onclick=\"convertToInteractive('df-78dbbfbd-453a-496b-98d1-2d6467e7a1e5')\"\n",
              "              title=\"Convert this dataframe to an interactive table.\"\n",
              "              style=\"display:none;\">\n",
              "        \n",
              "  <svg xmlns=\"http://www.w3.org/2000/svg\" height=\"24px\"viewBox=\"0 0 24 24\"\n",
              "       width=\"24px\">\n",
              "    <path d=\"M0 0h24v24H0V0z\" fill=\"none\"/>\n",
              "    <path d=\"M18.56 5.44l.94 2.06.94-2.06 2.06-.94-2.06-.94-.94-2.06-.94 2.06-2.06.94zm-11 1L8.5 8.5l.94-2.06 2.06-.94-2.06-.94L8.5 2.5l-.94 2.06-2.06.94zm10 10l.94 2.06.94-2.06 2.06-.94-2.06-.94-.94-2.06-.94 2.06-2.06.94z\"/><path d=\"M17.41 7.96l-1.37-1.37c-.4-.4-.92-.59-1.43-.59-.52 0-1.04.2-1.43.59L10.3 9.45l-7.72 7.72c-.78.78-.78 2.05 0 2.83L4 21.41c.39.39.9.59 1.41.59.51 0 1.02-.2 1.41-.59l7.78-7.78 2.81-2.81c.8-.78.8-2.07 0-2.86zM5.41 20L4 18.59l7.72-7.72 1.47 1.35L5.41 20z\"/>\n",
              "  </svg>\n",
              "      </button>\n",
              "      \n",
              "  <style>\n",
              "    .colab-df-container {\n",
              "      display:flex;\n",
              "      flex-wrap:wrap;\n",
              "      gap: 12px;\n",
              "    }\n",
              "\n",
              "    .colab-df-convert {\n",
              "      background-color: #E8F0FE;\n",
              "      border: none;\n",
              "      border-radius: 50%;\n",
              "      cursor: pointer;\n",
              "      display: none;\n",
              "      fill: #1967D2;\n",
              "      height: 32px;\n",
              "      padding: 0 0 0 0;\n",
              "      width: 32px;\n",
              "    }\n",
              "\n",
              "    .colab-df-convert:hover {\n",
              "      background-color: #E2EBFA;\n",
              "      box-shadow: 0px 1px 2px rgba(60, 64, 67, 0.3), 0px 1px 3px 1px rgba(60, 64, 67, 0.15);\n",
              "      fill: #174EA6;\n",
              "    }\n",
              "\n",
              "    [theme=dark] .colab-df-convert {\n",
              "      background-color: #3B4455;\n",
              "      fill: #D2E3FC;\n",
              "    }\n",
              "\n",
              "    [theme=dark] .colab-df-convert:hover {\n",
              "      background-color: #434B5C;\n",
              "      box-shadow: 0px 1px 3px 1px rgba(0, 0, 0, 0.15);\n",
              "      filter: drop-shadow(0px 1px 2px rgba(0, 0, 0, 0.3));\n",
              "      fill: #FFFFFF;\n",
              "    }\n",
              "  </style>\n",
              "\n",
              "      <script>\n",
              "        const buttonEl =\n",
              "          document.querySelector('#df-78dbbfbd-453a-496b-98d1-2d6467e7a1e5 button.colab-df-convert');\n",
              "        buttonEl.style.display =\n",
              "          google.colab.kernel.accessAllowed ? 'block' : 'none';\n",
              "\n",
              "        async function convertToInteractive(key) {\n",
              "          const element = document.querySelector('#df-78dbbfbd-453a-496b-98d1-2d6467e7a1e5');\n",
              "          const dataTable =\n",
              "            await google.colab.kernel.invokeFunction('convertToInteractive',\n",
              "                                                     [key], {});\n",
              "          if (!dataTable) return;\n",
              "\n",
              "          const docLinkHtml = 'Like what you see? Visit the ' +\n",
              "            '<a target=\"_blank\" href=https://colab.research.google.com/notebooks/data_table.ipynb>data table notebook</a>'\n",
              "            + ' to learn more about interactive tables.';\n",
              "          element.innerHTML = '';\n",
              "          dataTable['output_type'] = 'display_data';\n",
              "          await google.colab.output.renderOutput(dataTable, element);\n",
              "          const docLink = document.createElement('div');\n",
              "          docLink.innerHTML = docLinkHtml;\n",
              "          element.appendChild(docLink);\n",
              "        }\n",
              "      </script>\n",
              "    </div>\n",
              "  </div>\n",
              "  "
            ]
          },
          "metadata": {},
          "execution_count": 8
        }
      ]
    },
    {
      "cell_type": "code",
      "metadata": {
        "colab": {
          "base_uri": "https://localhost:8080/"
        },
        "id": "XNia7Pt-Fot7",
        "outputId": "00ec9f5b-409b-4c05-f3f1-c53eb1c40667"
      },
      "source": [
        "data.info()"
      ],
      "execution_count": null,
      "outputs": [
        {
          "output_type": "stream",
          "name": "stdout",
          "text": [
            "<class 'pandas.core.frame.DataFrame'>\n",
            "RangeIndex: 7017 entries, 0 to 7016\n",
            "Data columns (total 12 columns):\n",
            " #   Column        Non-Null Count  Dtype  \n",
            "---  ------        --------------  -----  \n",
            " 0   price         7017 non-null   int64  \n",
            " 1   year          7017 non-null   int64  \n",
            " 2   condition     7017 non-null   int64  \n",
            " 3   cylinders     7017 non-null   int64  \n",
            " 4   odometer      7017 non-null   int64  \n",
            " 5   title_status  7017 non-null   object \n",
            " 6   transmission  7017 non-null   object \n",
            " 7   drive         6626 non-null   object \n",
            " 8   size          5453 non-null   object \n",
            " 9   lat           7017 non-null   float64\n",
            " 10  long          7017 non-null   float64\n",
            " 11  weather       6837 non-null   float64\n",
            "dtypes: float64(3), int64(5), object(4)\n",
            "memory usage: 658.0+ KB\n"
          ]
        }
      ]
    },
    {
      "cell_type": "markdown",
      "metadata": {
        "id": "5v0qPmgWHV9w"
      },
      "source": [
        "## 1.3. Посмотрим общую статистику по числовым данным\n",
        "\n"
      ]
    },
    {
      "cell_type": "code",
      "metadata": {
        "id": "7ZOawvYOVpHi",
        "colab": {
          "base_uri": "https://localhost:8080/",
          "height": 300
        },
        "outputId": "590b1cb6-3d10-4ae0-c916-3486c16416e1"
      },
      "source": [
        "data.describe().T"
      ],
      "execution_count": null,
      "outputs": [
        {
          "output_type": "execute_result",
          "data": {
            "text/plain": [
              "            count           mean           std          min           25%  \\\n",
              "price      7017.0   15121.549523  11765.423119     1.000000   5995.000000   \n",
              "year       7017.0    2007.869745      6.975329  1957.000000   2004.000000   \n",
              "condition  7017.0       2.598689      0.703662     0.000000      2.000000   \n",
              "cylinders  7017.0       7.374662      0.942928     3.000000      6.000000   \n",
              "odometer   7017.0  119978.670942  89922.155723     0.000000  73285.000000   \n",
              "lat        7017.0      39.550144      5.745409    -2.508807     35.661076   \n",
              "long       7017.0     -91.903404     14.030710  -151.055832    -95.937145   \n",
              "weather    6837.0      52.142899      7.954830    29.000000     45.000000   \n",
              "\n",
              "                     50%          75%           max  \n",
              "price       12750.000000   21995.0000  2.995000e+05  \n",
              "year         2010.000000    2013.0000  2.018000e+03  \n",
              "condition       3.000000       3.0000  5.000000e+00  \n",
              "cylinders       8.000000       8.0000  1.000000e+01  \n",
              "odometer   118000.000000  157804.0000  2.490000e+06  \n",
              "lat            40.335245      43.5821  7.761768e+01  \n",
              "long          -88.168416     -82.7063 -5.377999e+00  \n",
              "weather        51.000000      59.0000  7.100000e+01  "
            ],
            "text/html": [
              "\n",
              "  <div id=\"df-3a034acd-5f2e-4bd7-9fb8-953c696fe2bd\">\n",
              "    <div class=\"colab-df-container\">\n",
              "      <div>\n",
              "<style scoped>\n",
              "    .dataframe tbody tr th:only-of-type {\n",
              "        vertical-align: middle;\n",
              "    }\n",
              "\n",
              "    .dataframe tbody tr th {\n",
              "        vertical-align: top;\n",
              "    }\n",
              "\n",
              "    .dataframe thead th {\n",
              "        text-align: right;\n",
              "    }\n",
              "</style>\n",
              "<table border=\"1\" class=\"dataframe\">\n",
              "  <thead>\n",
              "    <tr style=\"text-align: right;\">\n",
              "      <th></th>\n",
              "      <th>count</th>\n",
              "      <th>mean</th>\n",
              "      <th>std</th>\n",
              "      <th>min</th>\n",
              "      <th>25%</th>\n",
              "      <th>50%</th>\n",
              "      <th>75%</th>\n",
              "      <th>max</th>\n",
              "    </tr>\n",
              "  </thead>\n",
              "  <tbody>\n",
              "    <tr>\n",
              "      <th>price</th>\n",
              "      <td>7017.0</td>\n",
              "      <td>15121.549523</td>\n",
              "      <td>11765.423119</td>\n",
              "      <td>1.000000</td>\n",
              "      <td>5995.000000</td>\n",
              "      <td>12750.000000</td>\n",
              "      <td>21995.0000</td>\n",
              "      <td>2.995000e+05</td>\n",
              "    </tr>\n",
              "    <tr>\n",
              "      <th>year</th>\n",
              "      <td>7017.0</td>\n",
              "      <td>2007.869745</td>\n",
              "      <td>6.975329</td>\n",
              "      <td>1957.000000</td>\n",
              "      <td>2004.000000</td>\n",
              "      <td>2010.000000</td>\n",
              "      <td>2013.0000</td>\n",
              "      <td>2.018000e+03</td>\n",
              "    </tr>\n",
              "    <tr>\n",
              "      <th>condition</th>\n",
              "      <td>7017.0</td>\n",
              "      <td>2.598689</td>\n",
              "      <td>0.703662</td>\n",
              "      <td>0.000000</td>\n",
              "      <td>2.000000</td>\n",
              "      <td>3.000000</td>\n",
              "      <td>3.0000</td>\n",
              "      <td>5.000000e+00</td>\n",
              "    </tr>\n",
              "    <tr>\n",
              "      <th>cylinders</th>\n",
              "      <td>7017.0</td>\n",
              "      <td>7.374662</td>\n",
              "      <td>0.942928</td>\n",
              "      <td>3.000000</td>\n",
              "      <td>6.000000</td>\n",
              "      <td>8.000000</td>\n",
              "      <td>8.0000</td>\n",
              "      <td>1.000000e+01</td>\n",
              "    </tr>\n",
              "    <tr>\n",
              "      <th>odometer</th>\n",
              "      <td>7017.0</td>\n",
              "      <td>119978.670942</td>\n",
              "      <td>89922.155723</td>\n",
              "      <td>0.000000</td>\n",
              "      <td>73285.000000</td>\n",
              "      <td>118000.000000</td>\n",
              "      <td>157804.0000</td>\n",
              "      <td>2.490000e+06</td>\n",
              "    </tr>\n",
              "    <tr>\n",
              "      <th>lat</th>\n",
              "      <td>7017.0</td>\n",
              "      <td>39.550144</td>\n",
              "      <td>5.745409</td>\n",
              "      <td>-2.508807</td>\n",
              "      <td>35.661076</td>\n",
              "      <td>40.335245</td>\n",
              "      <td>43.5821</td>\n",
              "      <td>7.761768e+01</td>\n",
              "    </tr>\n",
              "    <tr>\n",
              "      <th>long</th>\n",
              "      <td>7017.0</td>\n",
              "      <td>-91.903404</td>\n",
              "      <td>14.030710</td>\n",
              "      <td>-151.055832</td>\n",
              "      <td>-95.937145</td>\n",
              "      <td>-88.168416</td>\n",
              "      <td>-82.7063</td>\n",
              "      <td>-5.377999e+00</td>\n",
              "    </tr>\n",
              "    <tr>\n",
              "      <th>weather</th>\n",
              "      <td>6837.0</td>\n",
              "      <td>52.142899</td>\n",
              "      <td>7.954830</td>\n",
              "      <td>29.000000</td>\n",
              "      <td>45.000000</td>\n",
              "      <td>51.000000</td>\n",
              "      <td>59.0000</td>\n",
              "      <td>7.100000e+01</td>\n",
              "    </tr>\n",
              "  </tbody>\n",
              "</table>\n",
              "</div>\n",
              "      <button class=\"colab-df-convert\" onclick=\"convertToInteractive('df-3a034acd-5f2e-4bd7-9fb8-953c696fe2bd')\"\n",
              "              title=\"Convert this dataframe to an interactive table.\"\n",
              "              style=\"display:none;\">\n",
              "        \n",
              "  <svg xmlns=\"http://www.w3.org/2000/svg\" height=\"24px\"viewBox=\"0 0 24 24\"\n",
              "       width=\"24px\">\n",
              "    <path d=\"M0 0h24v24H0V0z\" fill=\"none\"/>\n",
              "    <path d=\"M18.56 5.44l.94 2.06.94-2.06 2.06-.94-2.06-.94-.94-2.06-.94 2.06-2.06.94zm-11 1L8.5 8.5l.94-2.06 2.06-.94-2.06-.94L8.5 2.5l-.94 2.06-2.06.94zm10 10l.94 2.06.94-2.06 2.06-.94-2.06-.94-.94-2.06-.94 2.06-2.06.94z\"/><path d=\"M17.41 7.96l-1.37-1.37c-.4-.4-.92-.59-1.43-.59-.52 0-1.04.2-1.43.59L10.3 9.45l-7.72 7.72c-.78.78-.78 2.05 0 2.83L4 21.41c.39.39.9.59 1.41.59.51 0 1.02-.2 1.41-.59l7.78-7.78 2.81-2.81c.8-.78.8-2.07 0-2.86zM5.41 20L4 18.59l7.72-7.72 1.47 1.35L5.41 20z\"/>\n",
              "  </svg>\n",
              "      </button>\n",
              "      \n",
              "  <style>\n",
              "    .colab-df-container {\n",
              "      display:flex;\n",
              "      flex-wrap:wrap;\n",
              "      gap: 12px;\n",
              "    }\n",
              "\n",
              "    .colab-df-convert {\n",
              "      background-color: #E8F0FE;\n",
              "      border: none;\n",
              "      border-radius: 50%;\n",
              "      cursor: pointer;\n",
              "      display: none;\n",
              "      fill: #1967D2;\n",
              "      height: 32px;\n",
              "      padding: 0 0 0 0;\n",
              "      width: 32px;\n",
              "    }\n",
              "\n",
              "    .colab-df-convert:hover {\n",
              "      background-color: #E2EBFA;\n",
              "      box-shadow: 0px 1px 2px rgba(60, 64, 67, 0.3), 0px 1px 3px 1px rgba(60, 64, 67, 0.15);\n",
              "      fill: #174EA6;\n",
              "    }\n",
              "\n",
              "    [theme=dark] .colab-df-convert {\n",
              "      background-color: #3B4455;\n",
              "      fill: #D2E3FC;\n",
              "    }\n",
              "\n",
              "    [theme=dark] .colab-df-convert:hover {\n",
              "      background-color: #434B5C;\n",
              "      box-shadow: 0px 1px 3px 1px rgba(0, 0, 0, 0.15);\n",
              "      filter: drop-shadow(0px 1px 2px rgba(0, 0, 0, 0.3));\n",
              "      fill: #FFFFFF;\n",
              "    }\n",
              "  </style>\n",
              "\n",
              "      <script>\n",
              "        const buttonEl =\n",
              "          document.querySelector('#df-3a034acd-5f2e-4bd7-9fb8-953c696fe2bd button.colab-df-convert');\n",
              "        buttonEl.style.display =\n",
              "          google.colab.kernel.accessAllowed ? 'block' : 'none';\n",
              "\n",
              "        async function convertToInteractive(key) {\n",
              "          const element = document.querySelector('#df-3a034acd-5f2e-4bd7-9fb8-953c696fe2bd');\n",
              "          const dataTable =\n",
              "            await google.colab.kernel.invokeFunction('convertToInteractive',\n",
              "                                                     [key], {});\n",
              "          if (!dataTable) return;\n",
              "\n",
              "          const docLinkHtml = 'Like what you see? Visit the ' +\n",
              "            '<a target=\"_blank\" href=https://colab.research.google.com/notebooks/data_table.ipynb>data table notebook</a>'\n",
              "            + ' to learn more about interactive tables.';\n",
              "          element.innerHTML = '';\n",
              "          dataTable['output_type'] = 'display_data';\n",
              "          await google.colab.output.renderOutput(dataTable, element);\n",
              "          const docLink = document.createElement('div');\n",
              "          docLink.innerHTML = docLinkHtml;\n",
              "          element.appendChild(docLink);\n",
              "        }\n",
              "      </script>\n",
              "    </div>\n",
              "  </div>\n",
              "  "
            ]
          },
          "metadata": {},
          "execution_count": 10
        }
      ]
    },
    {
      "cell_type": "code",
      "metadata": {
        "colab": {
          "base_uri": "https://localhost:8080/",
          "height": 716
        },
        "id": "u34sHvMpHJm2",
        "outputId": "c8b86b32-150c-4f8f-ce15-ddf1cfbbab84"
      },
      "source": [
        "data.hist(figsize=(14, 12));"
      ],
      "execution_count": null,
      "outputs": [
        {
          "output_type": "display_data",
          "data": {
            "text/plain": [
              "<Figure size 1008x864 with 9 Axes>"
            ],
            "image/png": "[encoded data removed]"
          },
          "metadata": {
            "needs_background": "light"
          }
        }
      ]
    },
    {
      "cell_type": "markdown",
      "metadata": {
        "id": "SmgG5Xb0IaLX"
      },
      "source": [
        " ## 1.4. Индексация и извлечение данных \n",
        "\n",
        "---\n"
      ]
    },
    {
      "cell_type": "code",
      "source": [
        "data['condition']"
      ],
      "metadata": {
        "colab": {
          "base_uri": "https://localhost:8080/"
        },
        "id": "-i2SdwEo7WGd",
        "outputId": "d7c72e6a-6fa6-43b2-a6e4-3594cb8052ba"
      },
      "execution_count": null,
      "outputs": [
        {
          "output_type": "execute_result",
          "data": {
            "text/plain": [
              "0       4\n",
              "1       2\n",
              "2       2\n",
              "3       1\n",
              "4       3\n",
              "       ..\n",
              "7012    3\n",
              "7013    2\n",
              "7014    3\n",
              "7015    2\n",
              "7016    2\n",
              "Name: condition, Length: 7017, dtype: int64"
            ]
          },
          "metadata": {},
          "execution_count": 12
        }
      ]
    },
    {
      "cell_type": "code",
      "metadata": {
        "colab": {
          "base_uri": "https://localhost:8080/"
        },
        "id": "nPCHCJEPI-xW",
        "outputId": "d94b00ab-2f86-49ae-f7b8-8706c190b234"
      },
      "source": [
        "data['condition'].value_counts()"
      ],
      "execution_count": null,
      "outputs": [
        {
          "output_type": "execute_result",
          "data": {
            "text/plain": [
              "3    3566\n",
              "2    2613\n",
              "4     472\n",
              "1     338\n",
              "5      17\n",
              "0      11\n",
              "Name: condition, dtype: int64"
            ]
          },
          "metadata": {},
          "execution_count": 13
        }
      ]
    },
    {
      "cell_type": "code",
      "metadata": {
        "colab": {
          "base_uri": "https://localhost:8080/",
          "height": 278
        },
        "id": "adzvsv0FJFVE",
        "outputId": "17be7731-1bd3-4369-c204-04a3397d835c"
      },
      "source": [
        "data['condition'].value_counts().plot(kind='bar', )\n",
        "plt.title('Распределение по состоянию машин');"
      ],
      "execution_count": null,
      "outputs": [
        {
          "output_type": "display_data",
          "data": {
            "text/plain": [
              "<Figure size 432x288 with 1 Axes>"
            ],
            "image/png": "[encoded data removed]"
          },
          "metadata": {
            "needs_background": "light"
          }
        }
      ]
    },
    {
      "cell_type": "code",
      "metadata": {
        "colab": {
          "base_uri": "https://localhost:8080/",
          "height": 424
        },
        "id": "Cq8O1C7KJnZt",
        "outputId": "d2fccc1f-3ab2-4630-c7c6-764d31b6c303"
      },
      "source": [
        "mask = data['condition'] == 3\n",
        "data[mask]"
      ],
      "execution_count": null,
      "outputs": [
        {
          "output_type": "execute_result",
          "data": {
            "text/plain": [
              "      price  year  condition  cylinders  odometer title_status transmission  \\\n",
              "4     13865  2010          3          8    166062        clean    automatic   \n",
              "5      6995  2003          3          8    167662        clean    automatic   \n",
              "6      8995  2006          3          8    115500        clean    automatic   \n",
              "7      5995  2005          3          6    191198        clean    automatic   \n",
              "9      5500  2007          3          6    139913        clean       manual   \n",
              "...     ...   ...        ...        ...       ...          ...          ...   \n",
              "7008  14995  2010          3          8         0        clean    automatic   \n",
              "7009  24000  2015          3          6    135000        clean    automatic   \n",
              "7010  62995  2017          3          6     22973        clean    automatic   \n",
              "7012  22500  2015          3          6     23500        clean    automatic   \n",
              "7014   9999  2006          3          8    161514        clean    automatic   \n",
              "\n",
              "     drive       size        lat        long  weather  \n",
              "4      4wd        NaN  49.210949 -123.114720      NaN  \n",
              "5      4wd  full-size  45.518031 -122.578752     50.0  \n",
              "6      rwd  full-size  43.592223  -96.787488     38.0  \n",
              "7      rwd  full-size  38.611926 -121.423565     59.0  \n",
              "9      rwd  full-size  31.782356  -96.088975     67.0  \n",
              "...    ...        ...        ...         ...      ...  \n",
              "7008   NaN  full-size  32.788557 -117.098278     59.0  \n",
              "7009   4wd  full-size  36.783600  -90.216800     52.0  \n",
              "7010   4wd  full-size  34.244046  -77.860915     56.0  \n",
              "7012   rwd  full-size  32.680700 -117.169800     59.0  \n",
              "7014   NaN  full-size  37.609783 -120.995406     59.0  \n",
              "\n",
              "[3566 rows x 12 columns]"
            ],
            "text/html": [
              "\n",
              "  <div id=\"df-66d8d8f8-d86d-4d66-b914-51d19cdf4850\">\n",
              "    <div class=\"colab-df-container\">\n",
              "      <div>\n",
              "<style scoped>\n",
              "    .dataframe tbody tr th:only-of-type {\n",
              "        vertical-align: middle;\n",
              "    }\n",
              "\n",
              "    .dataframe tbody tr th {\n",
              "        vertical-align: top;\n",
              "    }\n",
              "\n",
              "    .dataframe thead th {\n",
              "        text-align: right;\n",
              "    }\n",
              "</style>\n",
              "<table border=\"1\" class=\"dataframe\">\n",
              "  <thead>\n",
              "    <tr style=\"text-align: right;\">\n",
              "      <th></th>\n",
              "      <th>price</th>\n",
              "      <th>year</th>\n",
              "      <th>condition</th>\n",
              "      <th>cylinders</th>\n",
              "      <th>odometer</th>\n",
              "      <th>title_status</th>\n",
              "      <th>transmission</th>\n",
              "      <th>drive</th>\n",
              "      <th>size</th>\n",
              "      <th>lat</th>\n",
              "      <th>long</th>\n",
              "      <th>weather</th>\n",
              "    </tr>\n",
              "  </thead>\n",
              "  <tbody>\n",
              "    <tr>\n",
              "      <th>4</th>\n",
              "      <td>13865</td>\n",
              "      <td>2010</td>\n",
              "      <td>3</td>\n",
              "      <td>8</td>\n",
              "      <td>166062</td>\n",
              "      <td>clean</td>\n",
              "      <td>automatic</td>\n",
              "      <td>4wd</td>\n",
              "      <td>NaN</td>\n",
              "      <td>49.210949</td>\n",
              "      <td>-123.114720</td>\n",
              "      <td>NaN</td>\n",
              "    </tr>\n",
              "    <tr>\n",
              "      <th>5</th>\n",
              "      <td>6995</td>\n",
              "      <td>2003</td>\n",
              "      <td>3</td>\n",
              "      <td>8</td>\n",
              "      <td>167662</td>\n",
              "      <td>clean</td>\n",
              "      <td>automatic</td>\n",
              "      <td>4wd</td>\n",
              "      <td>full-size</td>\n",
              "      <td>45.518031</td>\n",
              "      <td>-122.578752</td>\n",
              "      <td>50.0</td>\n",
              "    </tr>\n",
              "    <tr>\n",
              "      <th>6</th>\n",
              "      <td>8995</td>\n",
              "      <td>2006</td>\n",
              "      <td>3</td>\n",
              "      <td>8</td>\n",
              "      <td>115500</td>\n",
              "      <td>clean</td>\n",
              "      <td>automatic</td>\n",
              "      <td>rwd</td>\n",
              "      <td>full-size</td>\n",
              "      <td>43.592223</td>\n",
              "      <td>-96.787488</td>\n",
              "      <td>38.0</td>\n",
              "    </tr>\n",
              "    <tr>\n",
              "      <th>7</th>\n",
              "      <td>5995</td>\n",
              "      <td>2005</td>\n",
              "      <td>3</td>\n",
              "      <td>6</td>\n",
              "      <td>191198</td>\n",
              "      <td>clean</td>\n",
              "      <td>automatic</td>\n",
              "      <td>rwd</td>\n",
              "      <td>full-size</td>\n",
              "      <td>38.611926</td>\n",
              "      <td>-121.423565</td>\n",
              "      <td>59.0</td>\n",
              "    </tr>\n",
              "    <tr>\n",
              "      <th>9</th>\n",
              "      <td>5500</td>\n",
              "      <td>2007</td>\n",
              "      <td>3</td>\n",
              "      <td>6</td>\n",
              "      <td>139913</td>\n",
              "      <td>clean</td>\n",
              "      <td>manual</td>\n",
              "      <td>rwd</td>\n",
              "      <td>full-size</td>\n",
              "      <td>31.782356</td>\n",
              "      <td>-96.088975</td>\n",
              "      <td>67.0</td>\n",
              "    </tr>\n",
              "    <tr>\n",
              "      <th>...</th>\n",
              "      <td>...</td>\n",
              "      <td>...</td>\n",
              "      <td>...</td>\n",
              "      <td>...</td>\n",
              "      <td>...</td>\n",
              "      <td>...</td>\n",
              "      <td>...</td>\n",
              "      <td>...</td>\n",
              "      <td>...</td>\n",
              "      <td>...</td>\n",
              "      <td>...</td>\n",
              "      <td>...</td>\n",
              "    </tr>\n",
              "    <tr>\n",
              "      <th>7008</th>\n",
              "      <td>14995</td>\n",
              "      <td>2010</td>\n",
              "      <td>3</td>\n",
              "      <td>8</td>\n",
              "      <td>0</td>\n",
              "      <td>clean</td>\n",
              "      <td>automatic</td>\n",
              "      <td>NaN</td>\n",
              "      <td>full-size</td>\n",
              "      <td>32.788557</td>\n",
              "      <td>-117.098278</td>\n",
              "      <td>59.0</td>\n",
              "    </tr>\n",
              "    <tr>\n",
              "      <th>7009</th>\n",
              "      <td>24000</td>\n",
              "      <td>2015</td>\n",
              "      <td>3</td>\n",
              "      <td>6</td>\n",
              "      <td>135000</td>\n",
              "      <td>clean</td>\n",
              "      <td>automatic</td>\n",
              "      <td>4wd</td>\n",
              "      <td>full-size</td>\n",
              "      <td>36.783600</td>\n",
              "      <td>-90.216800</td>\n",
              "      <td>52.0</td>\n",
              "    </tr>\n",
              "    <tr>\n",
              "      <th>7010</th>\n",
              "      <td>62995</td>\n",
              "      <td>2017</td>\n",
              "      <td>3</td>\n",
              "      <td>6</td>\n",
              "      <td>22973</td>\n",
              "      <td>clean</td>\n",
              "      <td>automatic</td>\n",
              "      <td>4wd</td>\n",
              "      <td>full-size</td>\n",
              "      <td>34.244046</td>\n",
              "      <td>-77.860915</td>\n",
              "      <td>56.0</td>\n",
              "    </tr>\n",
              "    <tr>\n",
              "      <th>7012</th>\n",
              "      <td>22500</td>\n",
              "      <td>2015</td>\n",
              "      <td>3</td>\n",
              "      <td>6</td>\n",
              "      <td>23500</td>\n",
              "      <td>clean</td>\n",
              "      <td>automatic</td>\n",
              "      <td>rwd</td>\n",
              "      <td>full-size</td>\n",
              "      <td>32.680700</td>\n",
              "      <td>-117.169800</td>\n",
              "      <td>59.0</td>\n",
              "    </tr>\n",
              "    <tr>\n",
              "      <th>7014</th>\n",
              "      <td>9999</td>\n",
              "      <td>2006</td>\n",
              "      <td>3</td>\n",
              "      <td>8</td>\n",
              "      <td>161514</td>\n",
              "      <td>clean</td>\n",
              "      <td>automatic</td>\n",
              "      <td>NaN</td>\n",
              "      <td>full-size</td>\n",
              "      <td>37.609783</td>\n",
              "      <td>-120.995406</td>\n",
              "      <td>59.0</td>\n",
              "    </tr>\n",
              "  </tbody>\n",
              "</table>\n",
              "<p>3566 rows × 12 columns</p>\n",
              "</div>\n",
              "      <button class=\"colab-df-convert\" onclick=\"convertToInteractive('df-66d8d8f8-d86d-4d66-b914-51d19cdf4850')\"\n",
              "              title=\"Convert this dataframe to an interactive table.\"\n",
              "              style=\"display:none;\">\n",
              "        \n",
              "  <svg xmlns=\"http://www.w3.org/2000/svg\" height=\"24px\"viewBox=\"0 0 24 24\"\n",
              "       width=\"24px\">\n",
              "    <path d=\"M0 0h24v24H0V0z\" fill=\"none\"/>\n",
              "    <path d=\"M18.56 5.44l.94 2.06.94-2.06 2.06-.94-2.06-.94-.94-2.06-.94 2.06-2.06.94zm-11 1L8.5 8.5l.94-2.06 2.06-.94-2.06-.94L8.5 2.5l-.94 2.06-2.06.94zm10 10l.94 2.06.94-2.06 2.06-.94-2.06-.94-.94-2.06-.94 2.06-2.06.94z\"/><path d=\"M17.41 7.96l-1.37-1.37c-.4-.4-.92-.59-1.43-.59-.52 0-1.04.2-1.43.59L10.3 9.45l-7.72 7.72c-.78.78-.78 2.05 0 2.83L4 21.41c.39.39.9.59 1.41.59.51 0 1.02-.2 1.41-.59l7.78-7.78 2.81-2.81c.8-.78.8-2.07 0-2.86zM5.41 20L4 18.59l7.72-7.72 1.47 1.35L5.41 20z\"/>\n",
              "  </svg>\n",
              "      </button>\n",
              "      \n",
              "  <style>\n",
              "    .colab-df-container {\n",
              "      display:flex;\n",
              "      flex-wrap:wrap;\n",
              "      gap: 12px;\n",
              "    }\n",
              "\n",
              "    .colab-df-convert {\n",
              "      background-color: #E8F0FE;\n",
              "      border: none;\n",
              "      border-radius: 50%;\n",
              "      cursor: pointer;\n",
              "      display: none;\n",
              "      fill: #1967D2;\n",
              "      height: 32px;\n",
              "      padding: 0 0 0 0;\n",
              "      width: 32px;\n",
              "    }\n",
              "\n",
              "    .colab-df-convert:hover {\n",
              "      background-color: #E2EBFA;\n",
              "      box-shadow: 0px 1px 2px rgba(60, 64, 67, 0.3), 0px 1px 3px 1px rgba(60, 64, 67, 0.15);\n",
              "      fill: #174EA6;\n",
              "    }\n",
              "\n",
              "    [theme=dark] .colab-df-convert {\n",
              "      background-color: #3B4455;\n",
              "      fill: #D2E3FC;\n",
              "    }\n",
              "\n",
              "    [theme=dark] .colab-df-convert:hover {\n",
              "      background-color: #434B5C;\n",
              "      box-shadow: 0px 1px 3px 1px rgba(0, 0, 0, 0.15);\n",
              "      filter: drop-shadow(0px 1px 2px rgba(0, 0, 0, 0.3));\n",
              "      fill: #FFFFFF;\n",
              "    }\n",
              "  </style>\n",
              "\n",
              "      <script>\n",
              "        const buttonEl =\n",
              "          document.querySelector('#df-66d8d8f8-d86d-4d66-b914-51d19cdf4850 button.colab-df-convert');\n",
              "        buttonEl.style.display =\n",
              "          google.colab.kernel.accessAllowed ? 'block' : 'none';\n",
              "\n",
              "        async function convertToInteractive(key) {\n",
              "          const element = document.querySelector('#df-66d8d8f8-d86d-4d66-b914-51d19cdf4850');\n",
              "          const dataTable =\n",
              "            await google.colab.kernel.invokeFunction('convertToInteractive',\n",
              "                                                     [key], {});\n",
              "          if (!dataTable) return;\n",
              "\n",
              "          const docLinkHtml = 'Like what you see? Visit the ' +\n",
              "            '<a target=\"_blank\" href=https://colab.research.google.com/notebooks/data_table.ipynb>data table notebook</a>'\n",
              "            + ' to learn more about interactive tables.';\n",
              "          element.innerHTML = '';\n",
              "          dataTable['output_type'] = 'display_data';\n",
              "          await google.colab.output.renderOutput(dataTable, element);\n",
              "          const docLink = document.createElement('div');\n",
              "          docLink.innerHTML = docLinkHtml;\n",
              "          element.appendChild(docLink);\n",
              "        }\n",
              "      </script>\n",
              "    </div>\n",
              "  </div>\n",
              "  "
            ]
          },
          "metadata": {},
          "execution_count": 15
        }
      ]
    },
    {
      "cell_type": "code",
      "source": [
        "data[mask]['price'].max()"
      ],
      "metadata": {
        "colab": {
          "base_uri": "https://localhost:8080/"
        },
        "id": "fH_GDeUA9xGH",
        "outputId": "005ca08f-de51-4393-e0b2-16157371463c"
      },
      "execution_count": null,
      "outputs": [
        {
          "output_type": "execute_result",
          "data": {
            "text/plain": [
              "299500"
            ]
          },
          "metadata": {},
          "execution_count": 16
        }
      ]
    },
    {
      "cell_type": "code",
      "metadata": {
        "id": "MVq529bnJt_z",
        "colab": {
          "base_uri": "https://localhost:8080/"
        },
        "outputId": "bfc9f198-3956-426e-9984-4934e7e61c42"
      },
      "source": [
        "print(data[data['cylinders'] == 6]['year'].median(), data[data['cylinders'] == 8]['year'].median())"
      ],
      "execution_count": null,
      "outputs": [
        {
          "output_type": "stream",
          "name": "stdout",
          "text": [
            "2013.0 2007.0\n"
          ]
        }
      ]
    },
    {
      "cell_type": "markdown",
      "metadata": {
        "id": "71AK5WdtKV98"
      },
      "source": [
        "## 1.5 Группировка данных и визуальный анализ\n"
      ]
    },
    {
      "cell_type": "code",
      "metadata": {
        "colab": {
          "base_uri": "https://localhost:8080/",
          "height": 420
        },
        "id": "HHNlFnfCLwvl",
        "outputId": "6c6d8b4b-2d04-4e73-90ff-d41a353d44e5"
      },
      "source": [
        "data[data['year']>2009].boxplot(figsize=(10,6), column='price', by='year');"
      ],
      "execution_count": null,
      "outputs": [
        {
          "output_type": "display_data",
          "data": {
            "text/plain": [
              "<Figure size 720x432 with 1 Axes>"
            ],
            "image/png": "[encoded data removed]"
          },
          "metadata": {
            "needs_background": "light"
          }
        }
      ]
    },
    {
      "cell_type": "code",
      "metadata": {
        "colab": {
          "base_uri": "https://localhost:8080/"
        },
        "id": "gfMOFZvKQInw",
        "outputId": "22d8f507-7eaf-495c-d104-b5306ebc926a"
      },
      "source": [
        "mean_price_2000 = data[data['year']>=2000].groupby(by='year')['price'].mean()\n",
        "\n",
        "mean_price_2000"
      ],
      "execution_count": null,
      "outputs": [
        {
          "output_type": "execute_result",
          "data": {
            "text/plain": [
              "year\n",
              "2000     3712.311321\n",
              "2001     4169.169082\n",
              "2002     7821.887097\n",
              "2003     5554.994350\n",
              "2004     6758.830247\n",
              "2005     7396.773913\n",
              "2006     8022.709832\n",
              "2007     9115.150442\n",
              "2008    10610.943182\n",
              "2009    13407.565217\n",
              "2010    15379.444444\n",
              "2011    17088.597701\n",
              "2012    19726.964706\n",
              "2013    21315.984043\n",
              "2014    22960.569331\n",
              "2015    29766.042714\n",
              "2016    32479.148352\n",
              "2017    36828.490385\n",
              "2018    40892.843284\n",
              "Name: price, dtype: float64"
            ]
          },
          "metadata": {},
          "execution_count": 19
        }
      ]
    },
    {
      "cell_type": "code",
      "metadata": {
        "colab": {
          "base_uri": "https://localhost:8080/",
          "height": 392
        },
        "id": "9eOQBgWtQ6xA",
        "outputId": "ec955004-3c3d-4c8f-991e-b687901c9cf5"
      },
      "source": [
        "# инициализируем фигуру и указываем ее размер\n",
        "plt.figure(figsize=(10, 6))\n",
        "\n",
        "# название графика\n",
        "plt.title('Изменение средней цены в 2000х годах', fontsize=16)\n",
        "\n",
        "# строим график\n",
        "plt.plot(mean_price_2000, color='green', linestyle='-.', label='mean')\n",
        "\n",
        "# настраиваем подписи осей\n",
        "plt.ylabel('Средняя цена', fontsize=16)\n",
        "\n",
        "# включаем легенду и сетку\n",
        "plt.legend(fontsize=14)\n",
        "plt.grid()"
      ],
      "execution_count": null,
      "outputs": [
        {
          "output_type": "display_data",
          "data": {
            "text/plain": [
              "<Figure size 720x432 with 1 Axes>"
            ],
            "image/png": "[encoded data removed]"
          },
          "metadata": {
            "needs_background": "light"
          }
        }
      ]
    },
    {
      "cell_type": "markdown",
      "source": [
        "## 1.6 Заполним пропуски в данных"
      ],
      "metadata": {
        "id": "f1YM19L8C5bg"
      }
    },
    {
      "cell_type": "code",
      "source": [
        "data.info()"
      ],
      "metadata": {
        "colab": {
          "base_uri": "https://localhost:8080/"
        },
        "id": "iCJGD1PmkqUX",
        "outputId": "225c8d9f-11cb-47a2-8fa7-6457eb5bbc34"
      },
      "execution_count": null,
      "outputs": [
        {
          "output_type": "stream",
          "name": "stdout",
          "text": [
            "<class 'pandas.core.frame.DataFrame'>\n",
            "RangeIndex: 7017 entries, 0 to 7016\n",
            "Data columns (total 12 columns):\n",
            " #   Column        Non-Null Count  Dtype  \n",
            "---  ------        --------------  -----  \n",
            " 0   price         7017 non-null   int64  \n",
            " 1   year          7017 non-null   int64  \n",
            " 2   condition     7017 non-null   int64  \n",
            " 3   cylinders     7017 non-null   int64  \n",
            " 4   odometer      7017 non-null   int64  \n",
            " 5   title_status  7017 non-null   object \n",
            " 6   transmission  7017 non-null   object \n",
            " 7   drive         6626 non-null   object \n",
            " 8   size          5453 non-null   object \n",
            " 9   lat           7017 non-null   float64\n",
            " 10  long          7017 non-null   float64\n",
            " 11  weather       6837 non-null   float64\n",
            "dtypes: float64(3), int64(5), object(4)\n",
            "memory usage: 658.0+ KB\n"
          ]
        }
      ]
    },
    {
      "cell_type": "code",
      "source": [
        "data['drive'].value_counts()"
      ],
      "metadata": {
        "colab": {
          "base_uri": "https://localhost:8080/"
        },
        "id": "xSbr5GEUh7XO",
        "outputId": "03a6900b-48a1-4391-e5ec-fe2c223049ac"
      },
      "execution_count": null,
      "outputs": [
        {
          "output_type": "execute_result",
          "data": {
            "text/plain": [
              "4wd    4888\n",
              "rwd    1653\n",
              "fwd      85\n",
              "Name: drive, dtype: int64"
            ]
          },
          "metadata": {},
          "execution_count": 25
        }
      ]
    },
    {
      "cell_type": "code",
      "source": [
        "data['size'].value_counts()"
      ],
      "metadata": {
        "colab": {
          "base_uri": "https://localhost:8080/"
        },
        "id": "y-fnh83oiFtc",
        "outputId": "cc0622f4-ae40-46c6-cd1f-67fc5c1374cb"
      },
      "execution_count": null,
      "outputs": [
        {
          "output_type": "execute_result",
          "data": {
            "text/plain": [
              "full-size      4570\n",
              "mid-size        867\n",
              "compact          15\n",
              "sub-compact       1\n",
              "Name: size, dtype: int64"
            ]
          },
          "metadata": {},
          "execution_count": 26
        }
      ]
    },
    {
      "cell_type": "code",
      "source": [
        "data['weather'].median()"
      ],
      "metadata": {
        "colab": {
          "base_uri": "https://localhost:8080/"
        },
        "id": "TpuLxj2CiITl",
        "outputId": "f29c5ae7-826a-46c3-ba45-136bb1b3b898"
      },
      "execution_count": null,
      "outputs": [
        {
          "output_type": "execute_result",
          "data": {
            "text/plain": [
              "51.0"
            ]
          },
          "metadata": {},
          "execution_count": 27
        }
      ]
    },
    {
      "cell_type": "code",
      "source": [
        "drive_filler = data['drive'].value_counts().index[0]\n",
        "size_filler = data['size'].value_counts().index[0]\n",
        "weather_filler = data['weather'].median()"
      ],
      "metadata": {
        "id": "_et8rrsYiPXJ"
      },
      "execution_count": null,
      "outputs": []
    },
    {
      "cell_type": "markdown",
      "source": [
        "Запрлним пропуски с помощью метода .fillna()"
      ],
      "metadata": {
        "id": "Xux-W5dNjD0-"
      }
    },
    {
      "cell_type": "code",
      "source": [
        "data['drive'] = data['drive'].fillna(drive_filler)\n",
        "data['size'] = data['size'].fillna(size_filler)\n",
        "data['weather'] = data['weather'].fillna(weather_filler)"
      ],
      "metadata": {
        "id": "F5kcTdkuis1n"
      },
      "execution_count": null,
      "outputs": []
    },
    {
      "cell_type": "markdown",
      "source": [
        "## 1.7 Предобработка текстовых данных"
      ],
      "metadata": {
        "id": "jKT9ZRnJIQAu"
      }
    },
    {
      "cell_type": "code",
      "source": [
        "data.info()"
      ],
      "metadata": {
        "id": "TO6NEs1MIaMo"
      },
      "execution_count": null,
      "outputs": []
    },
    {
      "cell_type": "markdown",
      "source": [
        "<img src='https://i.ibb.co/k8bkTCB/one-hot-encoding.jpg'>"
      ],
      "metadata": {
        "id": "9XPed8f3IvUo"
      }
    },
    {
      "cell_type": "code",
      "source": [
        "pd.get_dummies(data)"
      ],
      "metadata": {
        "colab": {
          "base_uri": "https://localhost:8080/",
          "height": 505
        },
        "id": "FmgHxSHeIdAo",
        "outputId": "5840e517-7abe-4016-d17b-0daa269961fc"
      },
      "execution_count": null,
      "outputs": [
        {
          "output_type": "execute_result",
          "data": {
            "text/plain": [
              "      price  year  condition  cylinders  odometer        lat        long  \\\n",
              "0     43900  2016          4          6     43500  36.471500  -82.483400   \n",
              "1     15490  2009          2          8     98131  40.468826  -74.281734   \n",
              "2      2495  2002          2          8    201803  42.477134  -82.949564   \n",
              "3      1300  2000          1          8    170305  40.764373  -82.349503   \n",
              "4     13865  2010          3          8    166062  49.210949 -123.114720   \n",
              "...     ...   ...        ...        ...       ...        ...         ...   \n",
              "7012  22500  2015          3          6     23500  32.680700 -117.169800   \n",
              "7013   5975  2005          2          8         0  38.213303  -85.785762   \n",
              "7014   9999  2006          3          8    161514  37.609783 -120.995406   \n",
              "7015  10900  2011          2          8    164000  43.140600  -93.385000   \n",
              "7016  18000  2010          2          8    104000  37.987200  -84.178900   \n",
              "\n",
              "      weather  title_status_clean  title_status_lien  ...  \\\n",
              "0        59.0                   1                  0  ...   \n",
              "1        52.0                   1                  0  ...   \n",
              "2        45.0                   1                  0  ...   \n",
              "3        49.0                   0                  0  ...   \n",
              "4        51.0                   1                  0  ...   \n",
              "...       ...                 ...                ...  ...   \n",
              "7012     59.0                   1                  0  ...   \n",
              "7013     50.0                   1                  0  ...   \n",
              "7014     59.0                   1                  0  ...   \n",
              "7015     47.0                   1                  0  ...   \n",
              "7016     50.0                   1                  0  ...   \n",
              "\n",
              "      transmission_automatic  transmission_manual  transmission_other  \\\n",
              "0                          1                    0                   0   \n",
              "1                          1                    0                   0   \n",
              "2                          1                    0                   0   \n",
              "3                          1                    0                   0   \n",
              "4                          1                    0                   0   \n",
              "...                      ...                  ...                 ...   \n",
              "7012                       1                    0                   0   \n",
              "7013                       1                    0                   0   \n",
              "7014                       1                    0                   0   \n",
              "7015                       1                    0                   0   \n",
              "7016                       1                    0                   0   \n",
              "\n",
              "      drive_4wd  drive_fwd  drive_rwd  size_compact  size_full-size  \\\n",
              "0             1          0          0             0               1   \n",
              "1             1          0          0             0               1   \n",
              "2             1          0          0             0               1   \n",
              "3             1          0          0             0               1   \n",
              "4             1          0          0             0               1   \n",
              "...         ...        ...        ...           ...             ...   \n",
              "7012          0          0          1             0               1   \n",
              "7013          0          0          1             0               1   \n",
              "7014          1          0          0             0               1   \n",
              "7015          1          0          0             0               1   \n",
              "7016          1          0          0             0               1   \n",
              "\n",
              "      size_mid-size  size_sub-compact  \n",
              "0                 0                 0  \n",
              "1                 0                 0  \n",
              "2                 0                 0  \n",
              "3                 0                 0  \n",
              "4                 0                 0  \n",
              "...             ...               ...  \n",
              "7012              0                 0  \n",
              "7013              0                 0  \n",
              "7014              0                 0  \n",
              "7015              0                 0  \n",
              "7016              0                 0  \n",
              "\n",
              "[7017 rows x 23 columns]"
            ],
            "text/html": [
              "\n",
              "  <div id=\"df-388ed3f9-3eb9-4f6e-92fb-6d77df82deb0\">\n",
              "    <div class=\"colab-df-container\">\n",
              "      <div>\n",
              "<style scoped>\n",
              "    .dataframe tbody tr th:only-of-type {\n",
              "        vertical-align: middle;\n",
              "    }\n",
              "\n",
              "    .dataframe tbody tr th {\n",
              "        vertical-align: top;\n",
              "    }\n",
              "\n",
              "    .dataframe thead th {\n",
              "        text-align: right;\n",
              "    }\n",
              "</style>\n",
              "<table border=\"1\" class=\"dataframe\">\n",
              "  <thead>\n",
              "    <tr style=\"text-align: right;\">\n",
              "      <th></th>\n",
              "      <th>price</th>\n",
              "      <th>year</th>\n",
              "      <th>condition</th>\n",
              "      <th>cylinders</th>\n",
              "      <th>odometer</th>\n",
              "      <th>lat</th>\n",
              "      <th>long</th>\n",
              "      <th>weather</th>\n",
              "      <th>title_status_clean</th>\n",
              "      <th>title_status_lien</th>\n",
              "      <th>...</th>\n",
              "      <th>transmission_automatic</th>\n",
              "      <th>transmission_manual</th>\n",
              "      <th>transmission_other</th>\n",
              "      <th>drive_4wd</th>\n",
              "      <th>drive_fwd</th>\n",
              "      <th>drive_rwd</th>\n",
              "      <th>size_compact</th>\n",
              "      <th>size_full-size</th>\n",
              "      <th>size_mid-size</th>\n",
              "      <th>size_sub-compact</th>\n",
              "    </tr>\n",
              "  </thead>\n",
              "  <tbody>\n",
              "    <tr>\n",
              "      <th>0</th>\n",
              "      <td>43900</td>\n",
              "      <td>2016</td>\n",
              "      <td>4</td>\n",
              "      <td>6</td>\n",
              "      <td>43500</td>\n",
              "      <td>36.471500</td>\n",
              "      <td>-82.483400</td>\n",
              "      <td>59.0</td>\n",
              "      <td>1</td>\n",
              "      <td>0</td>\n",
              "      <td>...</td>\n",
              "      <td>1</td>\n",
              "      <td>0</td>\n",
              "      <td>0</td>\n",
              "      <td>1</td>\n",
              "      <td>0</td>\n",
              "      <td>0</td>\n",
              "      <td>0</td>\n",
              "      <td>1</td>\n",
              "      <td>0</td>\n",
              "      <td>0</td>\n",
              "    </tr>\n",
              "    <tr>\n",
              "      <th>1</th>\n",
              "      <td>15490</td>\n",
              "      <td>2009</td>\n",
              "      <td>2</td>\n",
              "      <td>8</td>\n",
              "      <td>98131</td>\n",
              "      <td>40.468826</td>\n",
              "      <td>-74.281734</td>\n",
              "      <td>52.0</td>\n",
              "      <td>1</td>\n",
              "      <td>0</td>\n",
              "      <td>...</td>\n",
              "      <td>1</td>\n",
              "      <td>0</td>\n",
              "      <td>0</td>\n",
              "      <td>1</td>\n",
              "      <td>0</td>\n",
              "      <td>0</td>\n",
              "      <td>0</td>\n",
              "      <td>1</td>\n",
              "      <td>0</td>\n",
              "      <td>0</td>\n",
              "    </tr>\n",
              "    <tr>\n",
              "      <th>2</th>\n",
              "      <td>2495</td>\n",
              "      <td>2002</td>\n",
              "      <td>2</td>\n",
              "      <td>8</td>\n",
              "      <td>201803</td>\n",
              "      <td>42.477134</td>\n",
              "      <td>-82.949564</td>\n",
              "      <td>45.0</td>\n",
              "      <td>1</td>\n",
              "      <td>0</td>\n",
              "      <td>...</td>\n",
              "      <td>1</td>\n",
              "      <td>0</td>\n",
              "      <td>0</td>\n",
              "      <td>1</td>\n",
              "      <td>0</td>\n",
              "      <td>0</td>\n",
              "      <td>0</td>\n",
              "      <td>1</td>\n",
              "      <td>0</td>\n",
              "      <td>0</td>\n",
              "    </tr>\n",
              "    <tr>\n",
              "      <th>3</th>\n",
              "      <td>1300</td>\n",
              "      <td>2000</td>\n",
              "      <td>1</td>\n",
              "      <td>8</td>\n",
              "      <td>170305</td>\n",
              "      <td>40.764373</td>\n",
              "      <td>-82.349503</td>\n",
              "      <td>49.0</td>\n",
              "      <td>0</td>\n",
              "      <td>0</td>\n",
              "      <td>...</td>\n",
              "      <td>1</td>\n",
              "      <td>0</td>\n",
              "      <td>0</td>\n",
              "      <td>1</td>\n",
              "      <td>0</td>\n",
              "      <td>0</td>\n",
              "      <td>0</td>\n",
              "      <td>1</td>\n",
              "      <td>0</td>\n",
              "      <td>0</td>\n",
              "    </tr>\n",
              "    <tr>\n",
              "      <th>4</th>\n",
              "      <td>13865</td>\n",
              "      <td>2010</td>\n",
              "      <td>3</td>\n",
              "      <td>8</td>\n",
              "      <td>166062</td>\n",
              "      <td>49.210949</td>\n",
              "      <td>-123.114720</td>\n",
              "      <td>51.0</td>\n",
              "      <td>1</td>\n",
              "      <td>0</td>\n",
              "      <td>...</td>\n",
              "      <td>1</td>\n",
              "      <td>0</td>\n",
              "      <td>0</td>\n",
              "      <td>1</td>\n",
              "      <td>0</td>\n",
              "      <td>0</td>\n",
              "      <td>0</td>\n",
              "      <td>1</td>\n",
              "      <td>0</td>\n",
              "      <td>0</td>\n",
              "    </tr>\n",
              "    <tr>\n",
              "      <th>...</th>\n",
              "      <td>...</td>\n",
              "      <td>...</td>\n",
              "      <td>...</td>\n",
              "      <td>...</td>\n",
              "      <td>...</td>\n",
              "      <td>...</td>\n",
              "      <td>...</td>\n",
              "      <td>...</td>\n",
              "      <td>...</td>\n",
              "      <td>...</td>\n",
              "      <td>...</td>\n",
              "      <td>...</td>\n",
              "      <td>...</td>\n",
              "      <td>...</td>\n",
              "      <td>...</td>\n",
              "      <td>...</td>\n",
              "      <td>...</td>\n",
              "      <td>...</td>\n",
              "      <td>...</td>\n",
              "      <td>...</td>\n",
              "      <td>...</td>\n",
              "    </tr>\n",
              "    <tr>\n",
              "      <th>7012</th>\n",
              "      <td>22500</td>\n",
              "      <td>2015</td>\n",
              "      <td>3</td>\n",
              "      <td>6</td>\n",
              "      <td>23500</td>\n",
              "      <td>32.680700</td>\n",
              "      <td>-117.169800</td>\n",
              "      <td>59.0</td>\n",
              "      <td>1</td>\n",
              "      <td>0</td>\n",
              "      <td>...</td>\n",
              "      <td>1</td>\n",
              "      <td>0</td>\n",
              "      <td>0</td>\n",
              "      <td>0</td>\n",
              "      <td>0</td>\n",
              "      <td>1</td>\n",
              "      <td>0</td>\n",
              "      <td>1</td>\n",
              "      <td>0</td>\n",
              "      <td>0</td>\n",
              "    </tr>\n",
              "    <tr>\n",
              "      <th>7013</th>\n",
              "      <td>5975</td>\n",
              "      <td>2005</td>\n",
              "      <td>2</td>\n",
              "      <td>8</td>\n",
              "      <td>0</td>\n",
              "      <td>38.213303</td>\n",
              "      <td>-85.785762</td>\n",
              "      <td>50.0</td>\n",
              "      <td>1</td>\n",
              "      <td>0</td>\n",
              "      <td>...</td>\n",
              "      <td>1</td>\n",
              "      <td>0</td>\n",
              "      <td>0</td>\n",
              "      <td>0</td>\n",
              "      <td>0</td>\n",
              "      <td>1</td>\n",
              "      <td>0</td>\n",
              "      <td>1</td>\n",
              "      <td>0</td>\n",
              "      <td>0</td>\n",
              "    </tr>\n",
              "    <tr>\n",
              "      <th>7014</th>\n",
              "      <td>9999</td>\n",
              "      <td>2006</td>\n",
              "      <td>3</td>\n",
              "      <td>8</td>\n",
              "      <td>161514</td>\n",
              "      <td>37.609783</td>\n",
              "      <td>-120.995406</td>\n",
              "      <td>59.0</td>\n",
              "      <td>1</td>\n",
              "      <td>0</td>\n",
              "      <td>...</td>\n",
              "      <td>1</td>\n",
              "      <td>0</td>\n",
              "      <td>0</td>\n",
              "      <td>1</td>\n",
              "      <td>0</td>\n",
              "      <td>0</td>\n",
              "      <td>0</td>\n",
              "      <td>1</td>\n",
              "      <td>0</td>\n",
              "      <td>0</td>\n",
              "    </tr>\n",
              "    <tr>\n",
              "      <th>7015</th>\n",
              "      <td>10900</td>\n",
              "      <td>2011</td>\n",
              "      <td>2</td>\n",
              "      <td>8</td>\n",
              "      <td>164000</td>\n",
              "      <td>43.140600</td>\n",
              "      <td>-93.385000</td>\n",
              "      <td>47.0</td>\n",
              "      <td>1</td>\n",
              "      <td>0</td>\n",
              "      <td>...</td>\n",
              "      <td>1</td>\n",
              "      <td>0</td>\n",
              "      <td>0</td>\n",
              "      <td>1</td>\n",
              "      <td>0</td>\n",
              "      <td>0</td>\n",
              "      <td>0</td>\n",
              "      <td>1</td>\n",
              "      <td>0</td>\n",
              "      <td>0</td>\n",
              "    </tr>\n",
              "    <tr>\n",
              "      <th>7016</th>\n",
              "      <td>18000</td>\n",
              "      <td>2010</td>\n",
              "      <td>2</td>\n",
              "      <td>8</td>\n",
              "      <td>104000</td>\n",
              "      <td>37.987200</td>\n",
              "      <td>-84.178900</td>\n",
              "      <td>50.0</td>\n",
              "      <td>1</td>\n",
              "      <td>0</td>\n",
              "      <td>...</td>\n",
              "      <td>1</td>\n",
              "      <td>0</td>\n",
              "      <td>0</td>\n",
              "      <td>1</td>\n",
              "      <td>0</td>\n",
              "      <td>0</td>\n",
              "      <td>0</td>\n",
              "      <td>1</td>\n",
              "      <td>0</td>\n",
              "      <td>0</td>\n",
              "    </tr>\n",
              "  </tbody>\n",
              "</table>\n",
              "<p>7017 rows × 23 columns</p>\n",
              "</div>\n",
              "      <button class=\"colab-df-convert\" onclick=\"convertToInteractive('df-388ed3f9-3eb9-4f6e-92fb-6d77df82deb0')\"\n",
              "              title=\"Convert this dataframe to an interactive table.\"\n",
              "              style=\"display:none;\">\n",
              "        \n",
              "  <svg xmlns=\"http://www.w3.org/2000/svg\" height=\"24px\"viewBox=\"0 0 24 24\"\n",
              "       width=\"24px\">\n",
              "    <path d=\"M0 0h24v24H0V0z\" fill=\"none\"/>\n",
              "    <path d=\"M18.56 5.44l.94 2.06.94-2.06 2.06-.94-2.06-.94-.94-2.06-.94 2.06-2.06.94zm-11 1L8.5 8.5l.94-2.06 2.06-.94-2.06-.94L8.5 2.5l-.94 2.06-2.06.94zm10 10l.94 2.06.94-2.06 2.06-.94-2.06-.94-.94-2.06-.94 2.06-2.06.94z\"/><path d=\"M17.41 7.96l-1.37-1.37c-.4-.4-.92-.59-1.43-.59-.52 0-1.04.2-1.43.59L10.3 9.45l-7.72 7.72c-.78.78-.78 2.05 0 2.83L4 21.41c.39.39.9.59 1.41.59.51 0 1.02-.2 1.41-.59l7.78-7.78 2.81-2.81c.8-.78.8-2.07 0-2.86zM5.41 20L4 18.59l7.72-7.72 1.47 1.35L5.41 20z\"/>\n",
              "  </svg>\n",
              "      </button>\n",
              "      \n",
              "  <style>\n",
              "    .colab-df-container {\n",
              "      display:flex;\n",
              "      flex-wrap:wrap;\n",
              "      gap: 12px;\n",
              "    }\n",
              "\n",
              "    .colab-df-convert {\n",
              "      background-color: #E8F0FE;\n",
              "      border: none;\n",
              "      border-radius: 50%;\n",
              "      cursor: pointer;\n",
              "      display: none;\n",
              "      fill: #1967D2;\n",
              "      height: 32px;\n",
              "      padding: 0 0 0 0;\n",
              "      width: 32px;\n",
              "    }\n",
              "\n",
              "    .colab-df-convert:hover {\n",
              "      background-color: #E2EBFA;\n",
              "      box-shadow: 0px 1px 2px rgba(60, 64, 67, 0.3), 0px 1px 3px 1px rgba(60, 64, 67, 0.15);\n",
              "      fill: #174EA6;\n",
              "    }\n",
              "\n",
              "    [theme=dark] .colab-df-convert {\n",
              "      background-color: #3B4455;\n",
              "      fill: #D2E3FC;\n",
              "    }\n",
              "\n",
              "    [theme=dark] .colab-df-convert:hover {\n",
              "      background-color: #434B5C;\n",
              "      box-shadow: 0px 1px 3px 1px rgba(0, 0, 0, 0.15);\n",
              "      filter: drop-shadow(0px 1px 2px rgba(0, 0, 0, 0.3));\n",
              "      fill: #FFFFFF;\n",
              "    }\n",
              "  </style>\n",
              "\n",
              "      <script>\n",
              "        const buttonEl =\n",
              "          document.querySelector('#df-388ed3f9-3eb9-4f6e-92fb-6d77df82deb0 button.colab-df-convert');\n",
              "        buttonEl.style.display =\n",
              "          google.colab.kernel.accessAllowed ? 'block' : 'none';\n",
              "\n",
              "        async function convertToInteractive(key) {\n",
              "          const element = document.querySelector('#df-388ed3f9-3eb9-4f6e-92fb-6d77df82deb0');\n",
              "          const dataTable =\n",
              "            await google.colab.kernel.invokeFunction('convertToInteractive',\n",
              "                                                     [key], {});\n",
              "          if (!dataTable) return;\n",
              "\n",
              "          const docLinkHtml = 'Like what you see? Visit the ' +\n",
              "            '<a target=\"_blank\" href=https://colab.research.google.com/notebooks/data_table.ipynb>data table notebook</a>'\n",
              "            + ' to learn more about interactive tables.';\n",
              "          element.innerHTML = '';\n",
              "          dataTable['output_type'] = 'display_data';\n",
              "          await google.colab.output.renderOutput(dataTable, element);\n",
              "          const docLink = document.createElement('div');\n",
              "          docLink.innerHTML = docLinkHtml;\n",
              "          element.appendChild(docLink);\n",
              "        }\n",
              "      </script>\n",
              "    </div>\n",
              "  </div>\n",
              "  "
            ]
          },
          "metadata": {},
          "execution_count": 30
        }
      ]
    },
    {
      "cell_type": "markdown",
      "metadata": {
        "id": "Ils5Td9fjIWw"
      },
      "source": [
        "---\n",
        "# Обзор результатов семинара\n",
        "\n",
        "На этом семинаре мы:\n",
        "* познакомились с рабочей средой Colab для Data Sсience;\n",
        "* на примере практической задачи поработали с основными библиотеками Pandas и Matplotlib;\n",
        "* проделали шаг 1 пайплайна анализа данных, а именно загрузку и визуальный анализ данных.\n",
        "\n",
        "Научились: \n",
        "* загружать библиотеки, необходимые для работы;\n",
        "* загружать данные, представленные в формате таблицы;\n",
        "* понимать, какой размер у выборки данных, какие типы имеют признаки;\n",
        "* индексировать и группировать данные;\n",
        "* смотреть различные статистики по данным;\n",
        "* строить гистограммы и боксплоты.\n"
      ]
    },
    {
      "cell_type": "code",
      "source": [],
      "metadata": {
        "id": "9ep5GFNzDVxf"
      },
      "execution_count": null,
      "outputs": []
    }
  ]
}